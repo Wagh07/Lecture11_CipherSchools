{
  "nbformat": 4,
  "nbformat_minor": 0,
  "metadata": {
    "colab": {
      "provenance": []
    },
    "kernelspec": {
      "name": "python3",
      "display_name": "Python 3"
    },
    "language_info": {
      "name": "python"
    }
  },
  "cells": [
    {
      "cell_type": "code",
      "source": [
        "# Sets Datattype\n",
        "\n",
        "s= set()\n",
        "\n",
        "print(type(s))\n",
        "\n",
        "# In sets try to pass argument  as a list\n",
        "\n",
        "s=set([1,2,3,4,5])\n",
        "\n",
        "print(s)\n",
        "\n",
        "print(type(s))\n",
        "\n",
        "# By default  { } is a class 'dict'\n",
        "\n",
        "s ={}\n",
        "\n",
        "print(type(s))\n",
        "\n",
        "''' But can use { } for more than one element '''\n",
        "\n",
        "st={20,30,40}\n",
        "\n",
        "print(st)\n",
        "\n",
        "print(type(st))\n",
        "\n"
      ],
      "metadata": {
        "id": "joEGCzIp-ylu",
        "colab": {
          "base_uri": "https://localhost:8080/"
        },
        "outputId": "6f6811ae-f7b8-4508-8113-e3501a395d83"
      },
      "execution_count": 2,
      "outputs": [
        {
          "output_type": "stream",
          "name": "stdout",
          "text": [
            "<class 'set'>\n",
            "{1, 2, 3, 4, 5}\n",
            "<class 'set'>\n",
            "<class 'dict'>\n",
            "{40, 20, 30}\n",
            "<class 'set'>\n"
          ]
        }
      ]
    },
    {
      "cell_type": "code",
      "source": [
        "# In Sets Duplicates are automatically removed\n",
        "\n",
        "S={1,2,3,1,2,1}\n",
        "\n",
        "print(S)\n",
        "\n",
        "print(type(S))"
      ],
      "metadata": {
        "colab": {
          "base_uri": "https://localhost:8080/"
        },
        "id": "ZHBr_gltUMxm",
        "outputId": "174ecb78-9732-49e0-c2a7-2bd30c555277"
      },
      "execution_count": 3,
      "outputs": [
        {
          "output_type": "stream",
          "name": "stdout",
          "text": [
            "{1, 2, 3}\n",
            "<class 'set'>\n"
          ]
        }
      ]
    },
    {
      "cell_type": "code",
      "source": [
        "# Methods\n",
        "\n",
        "s1={1,2,3}\n",
        "s2={3,4,5}\n",
        "\n",
        "print(s1|s2)\n",
        "\n",
        "print(s1&s2)\n",
        "\n",
        "print(s1-s2)\n",
        "\n",
        "print(s1^s2) ''' Symmetric difference'''\n",
        "\n"
      ],
      "metadata": {
        "colab": {
          "base_uri": "https://localhost:8080/"
        },
        "id": "NTms5T_jVNqh",
        "outputId": "823a902f-31c2-4622-f06a-cbb604e7318f"
      },
      "execution_count": 4,
      "outputs": [
        {
          "output_type": "stream",
          "name": "stdout",
          "text": [
            "{1, 2, 3, 4, 5}\n",
            "{3}\n",
            "{1, 2}\n",
            "{1, 2, 4, 5}\n"
          ]
        }
      ]
    }
  ]
}